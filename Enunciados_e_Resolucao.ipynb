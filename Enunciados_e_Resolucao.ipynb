{
 "cells": [
  {
   "cell_type": "markdown",
   "metadata": {},
   "source": [
    "### Instituto Atlântico Avanti\n",
    "### Bootcamp *Machine Learning* 2023.2\n",
    "\n",
    "### **Lista 1 (Python, Pandas, Matplotlib)**"
   ]
  },
  {
   "cell_type": "markdown",
   "metadata": {},
   "source": [
    "**1. Escreva uma função que receba uma lista de números e retorne outra lista com os números primos presentes.**"
   ]
  },
  {
   "cell_type": "code",
   "execution_count": 2,
   "metadata": {},
   "outputs": [],
   "source": [
    "def eh_primo(lista):\n",
    "\n",
    "    lista_primos = []\n",
    "\n",
    "    for item in lista:\n",
    "        primo = True\n",
    "\n",
    "        for n in range(2,item // 2):\n",
    "            if item % n == 0:\n",
    "                primo = False\n",
    "                break\n",
    "\n",
    "        if primo == True:\n",
    "            lista_primos.append(item)\n",
    "\n",
    "    return lista_primos"
   ]
  },
  {
   "cell_type": "code",
   "execution_count": 3,
   "metadata": {},
   "outputs": [
    {
     "name": "stdout",
     "output_type": "stream",
     "text": [
      "Lista de números informada: [2, 3, 6, 8, 9, 11, 13, 17, 25, 26, 33]\n",
      "\n",
      "Na lista informada, são primos os números: [2, 3, 11, 13, 17]\n"
     ]
    }
   ],
   "source": [
    "numeros = [2,3,6,8,9,11,13,17,25,26,33] \n",
    "\n",
    "lista_primos = eh_primo(numeros)\n",
    "\n",
    "print(f'Lista de números informada: {numeros}')\n",
    "\n",
    "if len(lista_primos) > 0:\n",
    "    print(f'\\nNa lista informada, são primos os números: {lista_primos}')\n",
    "else:\n",
    "    print('Não há números primos em na lista informada!')"
   ]
  },
  {
   "cell_type": "markdown",
   "metadata": {},
   "source": [
    "**2. Escreva uma função que receba duas listas e retorne outra lista com os elementos que estão presentes em apenas uma das listas.**"
   ]
  },
  {
   "cell_type": "code",
   "execution_count": 4,
   "metadata": {},
   "outputs": [],
   "source": [
    "def diferenca(a, b):\n",
    "\n",
    "    A = set(a)\n",
    "    B = set(b)\n",
    "\n",
    "    return (A - B).union(B - A)"
   ]
  },
  {
   "cell_type": "code",
   "execution_count": 5,
   "metadata": {},
   "outputs": [
    {
     "name": "stdout",
     "output_type": "stream",
     "text": [
      "Lista A: [0, 1, 2, 3]\n",
      "Lista B: [3, 4, 5, 6]\n",
      "\n",
      "Elementos que estão em apenas uma das listas: [0, 1, 2, 4, 5, 6]\n"
     ]
    }
   ],
   "source": [
    "a = [0, 1, 2, 3]\n",
    "b = [3, 4, 5, 6]\n",
    "\n",
    "a_diff_b = list(diferenca(a, b))\n",
    "\n",
    "print(f'Lista A: {a}')\n",
    "print(f'Lista B: {b}')\n",
    "print(f'\\nElementos que estão em apenas uma das listas: {a_diff_b}')"
   ]
  },
  {
   "cell_type": "markdown",
   "metadata": {},
   "source": [
    "**3. Dada uma lista de números inteiros, escreva uma função para encontrar o segundo maior valor na lista.**"
   ]
  },
  {
   "cell_type": "code",
   "execution_count": 6,
   "metadata": {},
   "outputs": [],
   "source": [
    "def maior(lista):\n",
    "    return max(lista)"
   ]
  },
  {
   "cell_type": "code",
   "execution_count": 7,
   "metadata": {},
   "outputs": [
    {
     "name": "stdout",
     "output_type": "stream",
     "text": [
      "Lista de números informada: [25, 17, 81, 7, 43, 13, 55]\n",
      "\n",
      "Maior elemento da lista: 81\n"
     ]
    }
   ],
   "source": [
    "lista = [25, 17, 81, 7, 43, 13, 55]\n",
    "\n",
    "print(f'Lista de números informada: {lista}')\n",
    "print(f'\\nMaior elemento da lista: {maior(lista)}')"
   ]
  },
  {
   "cell_type": "markdown",
   "metadata": {},
   "source": [
    "**4. Crie uma função que receba uma lista de tuplas, cada uma contendo o nome e a idade de uma pessoa, e retorne a lista ordenada pelo nome das pessoas em ordem alfabética.**"
   ]
  },
  {
   "cell_type": "code",
   "execution_count": 8,
   "metadata": {},
   "outputs": [],
   "source": [
    "def ordenar_lista(dados):\n",
    "\n",
    "    lista_ordenada = sorted(dados, key=lambda pessoa: pessoa[0])\n",
    "    return lista_ordenada"
   ]
  },
  {
   "cell_type": "code",
   "execution_count": 9,
   "metadata": {},
   "outputs": [
    {
     "name": "stdout",
     "output_type": "stream",
     "text": [
      "\n",
      "Em ordem alfabética de nome:\n",
      "('Felipe', 15)\n",
      "('Karine', 46)\n",
      "('Reinaldo', 38)\n",
      "('Tiago', 35)\n"
     ]
    }
   ],
   "source": [
    "dados = [('Felipe', 15), ('Tiago', 35), ('Reinaldo', 38), ('Karine', 46)]\n",
    "\n",
    "dados_ordenados = ordenar_lista(dados)\n",
    "\n",
    "print('\\nEm ordem alfabética de nome:')\n",
    "for item in dados_ordenados:\n",
    "    print(item)"
   ]
  },
  {
   "cell_type": "markdown",
   "metadata": {},
   "source": [
    "**5. Dada uma lista contendo números inteiros, como você encontraria o maior número e o menor número dessa lista em uma única passagem?**"
   ]
  },
  {
   "cell_type": "code",
   "execution_count": 10,
   "metadata": {},
   "outputs": [
    {
     "name": "stdout",
     "output_type": "stream",
     "text": [
      "Lista original: [2, 8, 85, 17, 23, 65]\n",
      "Lista ordenada: [2, 8, 17, 23, 65, 85] \n",
      "Menor elemento da lista: 2 \n",
      "Maior elemento da lista: 85\n"
     ]
    }
   ],
   "source": [
    "lista = [2, 8, 85, 17, 23, 65]\n",
    "print(f'Lista original: {lista}')\n",
    "\n",
    "#Dada uma lista, é possível encontrar seu menor e maior elementos, ordenando-a e a seguir pegando o primeiro [0] e o último valor da lista [-1], respectivamente:\n",
    "\n",
    "lista.sort()\n",
    "print(f'Lista ordenada: {lista} \\nMenor elemento da lista: {lista[0]} \\nMaior elemento da lista: {lista[-1]}')"
   ]
  },
  {
   "cell_type": "markdown",
   "metadata": {},
   "source": [
    "**6. Utilizando pandas, como realizar a leitura de um arquivo CSV em um DataFrame e exibir as primeiras linhas?**"
   ]
  },
  {
   "cell_type": "markdown",
   "metadata": {},
   "source": [
    "Resposta: \n",
    "\n",
    "`import pandas as pd`\n",
    "\n",
    "`df = pd.read_csv('nome_arquivo.csv')`\n",
    "\n",
    "`# Exibir as N primeiras linhas:`\n",
    "\n",
    "`print(df.head(N))`"
   ]
  },
  {
   "cell_type": "markdown",
   "metadata": {},
   "source": [
    "**7. Utilizando pandas, como selecionar uma coluna específica e filtrar linhas em um “DataFrame” com base em uma condição?**"
   ]
  },
  {
   "cell_type": "code",
   "execution_count": null,
   "metadata": {},
   "outputs": [],
   "source": [
    "# Selecionar uma coluna específica\n",
    "coluna_selecionada = df['nome_coluna']\n",
    "\n",
    "# Filtrar linhas com base em uma condição (por exemplo, valores maiores do que zero)\n",
    "linhas_filtradas = df[df['coluna'] > 0]"
   ]
  },
  {
   "cell_type": "markdown",
   "metadata": {},
   "source": [
    "**8. Utilizando pandas, como lidar com valores ausentes (NaN) em um DataFrame?**"
   ]
  },
  {
   "cell_type": "markdown",
   "metadata": {},
   "source": [
    "Resposta:\n",
    "\n",
    "Dataframes possuem métodos para verificar a presença de valores nulos:\n",
    "\n",
    "`df.isna()`  # Retorna True para elementos NaN\n",
    "\n",
    "\n",
    "Uma vez identificados os valores nulos, é possível removê-los:\n",
    "\n",
    "`df.dropna(axis=0, inplace=True)`  # axis=0 para remover linhas, axis=1 para remover colunas\n",
    "\n",
    "\n",
    "Ou preencher os valores ausentes com um valor específico:\n",
    "\n",
    "`df.fillna(0, inplace=True)`       # Preenche os valores ausentes com 0 (zero)\n"
   ]
  },
  {
   "cell_type": "markdown",
   "metadata": {},
   "source": [
    "**9. Complete o código:**\n",
    "\n",
    "import __________.pyplot as plt\n",
    "\n",
    "import numpy as ___\n",
    "\n",
    "fig, axs = plt.subplots(ncols=2, nrows=2, figsize=(5.5, 3.5),\n",
    "\n",
    "                        layout=\"constrained\")\n",
    "\n",
    "for ___ in range(2):\n",
    "\n",
    "    for ___ in range(2):\n",
    "\n",
    "        axs[row, col].annotate(f'axs[{row}, {col}]', (0.5, 0.5),\n",
    "\n",
    "                               transform=axs[row, col].transAxes,\n",
    "\n",
    "                               ha='center', va='center', ________=18,\n",
    "\n",
    "                               color='darkgrey')\n",
    "\n",
    "fig.suptitle('__.subplots()')"
   ]
  },
  {
   "cell_type": "code",
   "execution_count": 12,
   "metadata": {},
   "outputs": [
    {
     "data": {
      "text/plain": [
       "Text(0.5, 0.98, 'plt.subplots()')"
      ]
     },
     "execution_count": 12,
     "metadata": {},
     "output_type": "execute_result"
    },
    {
     "data": {
      "image/png": "[encoded data removed]",
      "text/plain": [
       "<Figure size 396x252 with 4 Axes>"
      ]
     },
     "metadata": {
      "needs_background": "light"
     },
     "output_type": "display_data"
    }
   ],
   "source": [
    "import matplotlib.pyplot as plt\n",
    "import numpy as np\n",
    "\n",
    "fig, axs = plt.subplots(ncols=2, nrows=2, figsize=(5.5, 3.5),\n",
    "                        constrained_layout=True)\n",
    "\n",
    "for row in range(2):\n",
    "    for col in range(2):\n",
    "        axs[row, col].annotate(f'axs[{row}, {col}]', (0.5, 0.5),\n",
    "                               transform=axs[row, col].transAxes,\n",
    "                               ha='center', va='center', fontsize=18,\n",
    "                               color='darkgrey')\n",
    "\n",
    "fig.suptitle('plt.subplots()')"
   ]
  },
  {
   "cell_type": "markdown",
   "metadata": {},
   "source": [
    "**10. Complete o código:**\n",
    "\n",
    "import numpy as np\n",
    "\n",
    "import __________ as mpl\n",
    "\n",
    "import __________.______ as plt\n",
    "\n",
    "x = np.________(-2 * np.pi, 2 * np.pi, 100)\n",
    "\n",
    "y = np.____(x)\n",
    "\n",
    "__, __ = plt.subplots()\n",
    "\n",
    "ax.____(_, _)"
   ]
  },
  {
   "cell_type": "code",
   "execution_count": 13,
   "metadata": {},
   "outputs": [
    {
     "data": {
      "text/plain": [
       "[<matplotlib.lines.Line2D at 0x7f4e80b5b320>]"
      ]
     },
     "execution_count": 13,
     "metadata": {},
     "output_type": "execute_result"
    },
    {
     "data": {
      "image/png": "[encoded data removed]",
      "text/plain": [
       "<Figure size 432x288 with 1 Axes>"
      ]
     },
     "metadata": {
      "needs_background": "light"
     },
     "output_type": "display_data"
    }
   ],
   "source": [
    "import numpy as np\n",
    "import matplotlib as mpl\n",
    "import matplotlib.pyplot as plt\n",
    "\n",
    "x = np.linspace(-2 * np.pi, 2 * np.pi, 100)\n",
    "y = np.sin(x)\n",
    "\n",
    "fig, ax = plt.subplots()\n",
    "ax.plot(x, y)"
   ]
  },
  {
   "cell_type": "code",
   "execution_count": null,
   "metadata": {},
   "outputs": [],
   "source": []
  }
 ],
 "metadata": {
  "kernelspec": {
   "display_name": "Python 3",
   "language": "python",
   "name": "python3"
  },
  "language_info": {
   "codemirror_mode": {
    "name": "ipython",
    "version": 3
   },
   "file_extension": ".py",
   "mimetype": "text/x-python",
   "name": "python",
   "nbconvert_exporter": "python",
   "pygments_lexer": "ipython3",
   "version": "3.6.9"
  }
 },
 "nbformat": 4,
 "nbformat_minor": 2
}
